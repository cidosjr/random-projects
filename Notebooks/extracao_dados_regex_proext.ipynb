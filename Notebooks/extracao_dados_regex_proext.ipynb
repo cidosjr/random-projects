{
 "cells": [
  {
   "cell_type": "markdown",
   "id": "twenty-bottle",
   "metadata": {},
   "source": [
    "# 0.0. importações"
   ]
  },
  {
   "cell_type": "code",
   "execution_count": 1,
   "id": "flying-mounting",
   "metadata": {
    "ExecuteTime": {
     "end_time": "2021-07-23T17:20:52.136806Z",
     "start_time": "2021-07-23T17:20:51.587370Z"
    }
   },
   "outputs": [],
   "source": [
    "import PyPDF2\n",
    "import re\n",
    "import pandas as pd"
   ]
  },
  {
   "cell_type": "markdown",
   "id": "organic-soldier",
   "metadata": {
    "heading_collapsed": true
   },
   "source": [
    "## 0.1. Carregar PDF"
   ]
  },
  {
   "cell_type": "code",
   "execution_count": 2,
   "id": "lovely-seeking",
   "metadata": {
    "ExecuteTime": {
     "end_time": "2021-07-23T17:20:53.138631Z",
     "start_time": "2021-07-23T17:20:53.070055Z"
    },
    "hidden": true
   },
   "outputs": [],
   "source": [
    "pdf = open('../files/propostasTramitadas.pdf', 'rb')\n",
    "\n",
    "pdf_reader = PyPDF2.PdfFileReader(pdf)"
   ]
  },
  {
   "cell_type": "markdown",
   "id": "sacred-consolidation",
   "metadata": {},
   "source": [
    "# 1.0. Extract Variabels from Data"
   ]
  },
  {
   "cell_type": "code",
   "execution_count": 4,
   "id": "premium-fever",
   "metadata": {
    "ExecuteTime": {
     "end_time": "2021-07-23T17:21:08.859124Z",
     "start_time": "2021-07-23T17:21:07.630861Z"
    }
   },
   "outputs": [],
   "source": [
    "n_pages = range(0, pdf_reader.numPages)"
   ]
  },
  {
   "cell_type": "markdown",
   "id": "unlimited-flight",
   "metadata": {},
   "source": [
    "## 1.1. Data"
   ]
  },
  {
   "cell_type": "code",
   "execution_count": null,
   "id": "thrown-blond",
   "metadata": {},
   "outputs": [],
   "source": [
    "data = []\n",
    "\n",
    "for n_page in n_pages:\n",
    "\n",
    "    for i in range(0, 10):\n",
    "        text = pdf_reader.getPage(n_page).extractText()\n",
    "        aux = re.findall('../../....', text)[i]\n",
    "        data.append(aux)"
   ]
  },
  {
   "cell_type": "markdown",
   "id": "documentary-loading",
   "metadata": {},
   "source": [
    "## 1.2. Numero da Proposta"
   ]
  },
  {
   "cell_type": "code",
   "execution_count": null,
   "id": "efficient-bracelet",
   "metadata": {},
   "outputs": [],
   "source": [
    "n_proposta = []\n",
    "\n",
    "for n_page in n_pages:\n",
    "    for i in range(1, 11):\n",
    "        # numero da proposta\n",
    "        proposta = pdf_reader.getPage(n_page).extractText().split('Pro:')[i].split(\" \")[1]\n",
    "        n_proposta.append(proposta)"
   ]
  },
  {
   "cell_type": "markdown",
   "id": "honest-september",
   "metadata": {},
   "source": [
    "## 1.3. Numero do Relatório"
   ]
  },
  {
   "cell_type": "code",
   "execution_count": null,
   "id": "constitutional-astronomy",
   "metadata": {},
   "outputs": [],
   "source": [
    "n_relatorio = []\n",
    "\n",
    "for n_page in n_pages:\n",
    "     for i in range(1, 11):\n",
    "        # numero da relatorio\n",
    "        relatorio = pdf_reader.getPage(n_page).extractText().split('Rel:')[i].split(' ')[1].replace(')', '')\n",
    "        n_relatorio.append(relatorio)"
   ]
  },
  {
   "cell_type": "markdown",
   "id": "cleared-recipe",
   "metadata": {},
   "source": [
    "## 1.4. Situacao da Proposta"
   ]
  },
  {
   "cell_type": "code",
   "execution_count": null,
   "id": "prerequisite-sewing",
   "metadata": {},
   "outputs": [],
   "source": [
    "situacao_da_proposta = []\n",
    "\n",
    "for n_page in n_pages:\n",
    "    for i in range(1, 11):\n",
    "        # situacao_da_proposta\n",
    "        text = pdf_reader.getPage(n_page).extractText().split(' - ')[i]\n",
    "        sdp = re.split('\\d+', text)[0]\n",
    "        situacao_da_proposta.append(sdp)"
   ]
  },
  {
   "cell_type": "markdown",
   "id": "utility-standing",
   "metadata": {},
   "source": [
    "## 1.5. Nome do Proponente"
   ]
  },
  {
   "cell_type": "code",
   "execution_count": null,
   "id": "separated-underwear",
   "metadata": {},
   "outputs": [],
   "source": [
    "situacao_da_proposta = []\n",
    "\n",
    "for n_page in n_pages:\n",
    "    for i in range(1, 11):\n",
    "        # proponente\n",
    "        text = pdf_reader.getPage(n_page).extractText().split(' - ')[i]\n",
    "        sdp = re.split('\\d+', text)[0]\n",
    "        proponente.append(sdp)"
   ]
  },
  {
   "cell_type": "markdown",
   "id": "automatic-aspect",
   "metadata": {
    "heading_collapsed": true
   },
   "source": [
    "## 1.6. Instancia de Aprovacao"
   ]
  },
  {
   "cell_type": "code",
   "execution_count": null,
   "id": "ruled-click",
   "metadata": {
    "hidden": true
   },
   "outputs": [],
   "source": [
    "instancia_de_aprovacao = []\n",
    "\n",
    "for n_page in n_pages:\n",
    "    for i in range(0, 10):\n",
    "        # instancia_de_aprovacao\n",
    "        text = pdf_reader.getPage(n_page).extractText().split('(')[i]\n",
    "        ida = re.split('\\d+', text)[-1]\n",
    "        instancia_de_aprovacao.append(ida)"
   ]
  },
  {
   "cell_type": "markdown",
   "id": "unlikely-seeker",
   "metadata": {
    "heading_collapsed": true
   },
   "source": [
    "## 1.7.  Unidade Exercicio"
   ]
  },
  {
   "cell_type": "code",
   "execution_count": null,
   "id": "commercial-attachment",
   "metadata": {
    "hidden": true
   },
   "outputs": [],
   "source": [
    "unidade_exercicio = []\n",
    "\n",
    "for n_page in n_pages:\n",
    "    for i in range(0, 10):\n",
    "        # unidade_exercicio\n",
    "        text = pdf_reader.getPage(n_page).extractText().split('(')[i]\n",
    "        aux = re.split('\\d+', text)[-1]\n",
    "        unidade_exercicio.append(aux)"
   ]
  },
  {
   "cell_type": "markdown",
   "id": "alien-french",
   "metadata": {
    "heading_collapsed": true
   },
   "source": [
    "## 1.8. Dirigente"
   ]
  },
  {
   "cell_type": "code",
   "execution_count": null,
   "id": "distant-beatles",
   "metadata": {
    "hidden": true
   },
   "outputs": [],
   "source": [
    "dirigente = []\n",
    "\n",
    "for n_page in n_pages:\n",
    "    for i in range(0, 10):\n",
    "        #  dirigente\n",
    "        text = pdf_reader.getPage(n_page).extractText().split(' - ')[i].split('/')[2].split('Pro:')[0]\n",
    "        prop = re.split('\\d+', text)[1]\n",
    "\n",
    "        dirigente.append(prop)"
   ]
  },
  {
   "cell_type": "markdown",
   "id": "facial-movie",
   "metadata": {},
   "source": [
    "## 1.9. Departamento"
   ]
  },
  {
   "cell_type": "code",
   "execution_count": null,
   "id": "greater-prize",
   "metadata": {},
   "outputs": [],
   "source": [
    "departamento = []\n",
    "\n",
    "for n_page in n_pages:\n",
    "    for i in range(0, 10):\n",
    "        # departamento\n",
    "        aux = pdf_reader.getPage(n_page).extractText().split('Rel:')[i]\n",
    "        \n",
    "        departamento.append(aux)"
   ]
  },
  {
   "cell_type": "markdown",
   "id": "careful-accessory",
   "metadata": {},
   "source": [
    "# 2.0.Criação do DataFrame"
   ]
  },
  {
   "cell_type": "code",
   "execution_count": null,
   "id": "prime-retro",
   "metadata": {},
   "outputs": [],
   "source": [
    "reg = { 'data': data,\n",
    "        'n_proposta':  n_proposta,\n",
    "        'n_relatorio': n_relatorio ,\n",
    "        'situacao_da_proposta': situacao_da_proposta ,\n",
    "        'proponente':  proponente,\n",
    "        'instancia_de_aprovacao': instancia_de_aprovacao ,\n",
    "        'unidade_exercicio': unidade_exercicio ,\n",
    "        'departamento':  departamento}\n",
    "\n",
    "df = pd.DataFrame(reg)"
   ]
  },
  {
   "cell_type": "markdown",
   "id": "southeast-broadcast",
   "metadata": {},
   "source": [
    "## 2.1. Salvar DataFrame para CSV"
   ]
  },
  {
   "cell_type": "code",
   "execution_count": null,
   "id": "stainless-brunei",
   "metadata": {},
   "outputs": [],
   "source": [
    "pd.to_csv('propostas_tramitadas.csv', index=False)"
   ]
  },
  {
   "cell_type": "code",
   "execution_count": null,
   "id": "capable-emerald",
   "metadata": {},
   "outputs": [],
   "source": []
  },
  {
   "cell_type": "code",
   "execution_count": null,
   "id": "optimum-steam",
   "metadata": {},
   "outputs": [],
   "source": []
  },
  {
   "cell_type": "code",
   "execution_count": null,
   "id": "interstate-buyer",
   "metadata": {},
   "outputs": [],
   "source": []
  },
  {
   "cell_type": "code",
   "execution_count": 61,
   "id": "ranking-internship",
   "metadata": {
    "ExecuteTime": {
     "end_time": "2021-07-23T16:18:21.120098Z",
     "start_time": "2021-07-23T14:37:36.470821Z"
    }
   },
   "outputs": [
    {
     "ename": "KeyboardInterrupt",
     "evalue": "",
     "output_type": "error",
     "traceback": [
      "\u001b[0;31m---------------------------------------------------------------------------\u001b[0m",
      "\u001b[0;31mKeyboardInterrupt\u001b[0m                         Traceback (most recent call last)",
      "\u001b[0;32m<ipython-input-61-d83ecef2f92b>\u001b[0m in \u001b[0;36m<module>\u001b[0;34m\u001b[0m\n\u001b[1;32m     42\u001b[0m     \u001b[0;32mfor\u001b[0m \u001b[0mi\u001b[0m \u001b[0;32min\u001b[0m \u001b[0mrange\u001b[0m\u001b[0;34m(\u001b[0m\u001b[0;36m0\u001b[0m\u001b[0;34m,\u001b[0m \u001b[0;36m10\u001b[0m\u001b[0;34m)\u001b[0m\u001b[0;34m:\u001b[0m\u001b[0;34m\u001b[0m\u001b[0;34m\u001b[0m\u001b[0m\n\u001b[1;32m     43\u001b[0m         \u001b[0;31m# instancia_de_aprovacao\u001b[0m\u001b[0;34m\u001b[0m\u001b[0;34m\u001b[0m\u001b[0;34m\u001b[0m\u001b[0m\n\u001b[0;32m---> 44\u001b[0;31m         \u001b[0mtext\u001b[0m \u001b[0;34m=\u001b[0m \u001b[0mpdf_reader\u001b[0m\u001b[0;34m.\u001b[0m\u001b[0mgetPage\u001b[0m\u001b[0;34m(\u001b[0m\u001b[0mn_page\u001b[0m\u001b[0;34m)\u001b[0m\u001b[0;34m.\u001b[0m\u001b[0mextractText\u001b[0m\u001b[0;34m(\u001b[0m\u001b[0;34m)\u001b[0m\u001b[0;34m.\u001b[0m\u001b[0msplit\u001b[0m\u001b[0;34m(\u001b[0m\u001b[0;34m'('\u001b[0m\u001b[0;34m)\u001b[0m\u001b[0;34m[\u001b[0m\u001b[0mi\u001b[0m\u001b[0;34m]\u001b[0m\u001b[0;34m\u001b[0m\u001b[0;34m\u001b[0m\u001b[0m\n\u001b[0m\u001b[1;32m     45\u001b[0m         \u001b[0mida\u001b[0m \u001b[0;34m=\u001b[0m \u001b[0mre\u001b[0m\u001b[0;34m.\u001b[0m\u001b[0msplit\u001b[0m\u001b[0;34m(\u001b[0m\u001b[0;34m'\\d+'\u001b[0m\u001b[0;34m,\u001b[0m \u001b[0mtext\u001b[0m\u001b[0;34m)\u001b[0m\u001b[0;34m[\u001b[0m\u001b[0;34m-\u001b[0m\u001b[0;36m1\u001b[0m\u001b[0;34m]\u001b[0m\u001b[0;34m\u001b[0m\u001b[0;34m\u001b[0m\u001b[0m\n\u001b[1;32m     46\u001b[0m         \u001b[0minstancia_de_aprovacao\u001b[0m\u001b[0;34m.\u001b[0m\u001b[0mappend\u001b[0m\u001b[0;34m(\u001b[0m\u001b[0mida\u001b[0m\u001b[0;34m)\u001b[0m\u001b[0;34m\u001b[0m\u001b[0;34m\u001b[0m\u001b[0m\n",
      "\u001b[0;32m~/.pyenv/versions/3.8.0/envs/local/lib/python3.8/site-packages/PyPDF2/pdf.py\u001b[0m in \u001b[0;36mextractText\u001b[0;34m(self)\u001b[0m\n\u001b[1;32m   2593\u001b[0m         \u001b[0mcontent\u001b[0m \u001b[0;34m=\u001b[0m \u001b[0mself\u001b[0m\u001b[0;34m[\u001b[0m\u001b[0;34m\"/Contents\"\u001b[0m\u001b[0;34m]\u001b[0m\u001b[0;34m.\u001b[0m\u001b[0mgetObject\u001b[0m\u001b[0;34m(\u001b[0m\u001b[0;34m)\u001b[0m\u001b[0;34m\u001b[0m\u001b[0;34m\u001b[0m\u001b[0m\n\u001b[1;32m   2594\u001b[0m         \u001b[0;32mif\u001b[0m \u001b[0;32mnot\u001b[0m \u001b[0misinstance\u001b[0m\u001b[0;34m(\u001b[0m\u001b[0mcontent\u001b[0m\u001b[0;34m,\u001b[0m \u001b[0mContentStream\u001b[0m\u001b[0;34m)\u001b[0m\u001b[0;34m:\u001b[0m\u001b[0;34m\u001b[0m\u001b[0;34m\u001b[0m\u001b[0m\n\u001b[0;32m-> 2595\u001b[0;31m             \u001b[0mcontent\u001b[0m \u001b[0;34m=\u001b[0m \u001b[0mContentStream\u001b[0m\u001b[0;34m(\u001b[0m\u001b[0mcontent\u001b[0m\u001b[0;34m,\u001b[0m \u001b[0mself\u001b[0m\u001b[0;34m.\u001b[0m\u001b[0mpdf\u001b[0m\u001b[0;34m)\u001b[0m\u001b[0;34m\u001b[0m\u001b[0;34m\u001b[0m\u001b[0m\n\u001b[0m\u001b[1;32m   2596\u001b[0m         \u001b[0;31m# Note: we check all strings are TextStringObjects.  ByteStringObjects\u001b[0m\u001b[0;34m\u001b[0m\u001b[0;34m\u001b[0m\u001b[0;34m\u001b[0m\u001b[0m\n\u001b[1;32m   2597\u001b[0m         \u001b[0;31m# are strings where the byte->string encoding was unknown, so adding\u001b[0m\u001b[0;34m\u001b[0m\u001b[0;34m\u001b[0m\u001b[0;34m\u001b[0m\u001b[0m\n",
      "\u001b[0;32m~/.pyenv/versions/3.8.0/envs/local/lib/python3.8/site-packages/PyPDF2/pdf.py\u001b[0m in \u001b[0;36m__init__\u001b[0;34m(self, stream, pdf)\u001b[0m\n\u001b[1;32m   2672\u001b[0m         \u001b[0;32melse\u001b[0m\u001b[0;34m:\u001b[0m\u001b[0;34m\u001b[0m\u001b[0;34m\u001b[0m\u001b[0m\n\u001b[1;32m   2673\u001b[0m             \u001b[0mstream\u001b[0m \u001b[0;34m=\u001b[0m \u001b[0mBytesIO\u001b[0m\u001b[0;34m(\u001b[0m\u001b[0mb_\u001b[0m\u001b[0;34m(\u001b[0m\u001b[0mstream\u001b[0m\u001b[0;34m.\u001b[0m\u001b[0mgetData\u001b[0m\u001b[0;34m(\u001b[0m\u001b[0;34m)\u001b[0m\u001b[0;34m)\u001b[0m\u001b[0;34m)\u001b[0m\u001b[0;34m\u001b[0m\u001b[0;34m\u001b[0m\u001b[0m\n\u001b[0;32m-> 2674\u001b[0;31m         \u001b[0mself\u001b[0m\u001b[0;34m.\u001b[0m\u001b[0m__parseContentStream\u001b[0m\u001b[0;34m(\u001b[0m\u001b[0mstream\u001b[0m\u001b[0;34m)\u001b[0m\u001b[0;34m\u001b[0m\u001b[0;34m\u001b[0m\u001b[0m\n\u001b[0m\u001b[1;32m   2675\u001b[0m \u001b[0;34m\u001b[0m\u001b[0m\n\u001b[1;32m   2676\u001b[0m     \u001b[0;32mdef\u001b[0m \u001b[0m__parseContentStream\u001b[0m\u001b[0;34m(\u001b[0m\u001b[0mself\u001b[0m\u001b[0;34m,\u001b[0m \u001b[0mstream\u001b[0m\u001b[0;34m)\u001b[0m\u001b[0;34m:\u001b[0m\u001b[0;34m\u001b[0m\u001b[0;34m\u001b[0m\u001b[0m\n",
      "\u001b[0;32m~/.pyenv/versions/3.8.0/envs/local/lib/python3.8/site-packages/PyPDF2/pdf.py\u001b[0m in \u001b[0;36m__parseContentStream\u001b[0;34m(self, stream)\u001b[0m\n\u001b[1;32m   2694\u001b[0m                 \u001b[0;32melse\u001b[0m\u001b[0;34m:\u001b[0m\u001b[0;34m\u001b[0m\u001b[0;34m\u001b[0m\u001b[0m\n\u001b[1;32m   2695\u001b[0m                     \u001b[0mself\u001b[0m\u001b[0;34m.\u001b[0m\u001b[0moperations\u001b[0m\u001b[0;34m.\u001b[0m\u001b[0mappend\u001b[0m\u001b[0;34m(\u001b[0m\u001b[0;34m(\u001b[0m\u001b[0moperands\u001b[0m\u001b[0;34m,\u001b[0m \u001b[0moperator\u001b[0m\u001b[0;34m)\u001b[0m\u001b[0;34m)\u001b[0m\u001b[0;34m\u001b[0m\u001b[0;34m\u001b[0m\u001b[0m\n\u001b[0;32m-> 2696\u001b[0;31m                     \u001b[0moperands\u001b[0m \u001b[0;34m=\u001b[0m \u001b[0;34m[\u001b[0m\u001b[0;34m]\u001b[0m\u001b[0;34m\u001b[0m\u001b[0;34m\u001b[0m\u001b[0m\n\u001b[0m\u001b[1;32m   2697\u001b[0m             \u001b[0;32melif\u001b[0m \u001b[0mpeek\u001b[0m \u001b[0;34m==\u001b[0m \u001b[0mb_\u001b[0m\u001b[0;34m(\u001b[0m\u001b[0;34m'%'\u001b[0m\u001b[0;34m)\u001b[0m\u001b[0;34m:\u001b[0m\u001b[0;34m\u001b[0m\u001b[0;34m\u001b[0m\u001b[0m\n\u001b[1;32m   2698\u001b[0m                 \u001b[0;31m# If we encounter a comment in the content stream, we have to\u001b[0m\u001b[0;34m\u001b[0m\u001b[0;34m\u001b[0m\u001b[0;34m\u001b[0m\u001b[0m\n",
      "\u001b[0;31mKeyboardInterrupt\u001b[0m: "
     ]
    }
   ],
   "source": [
    "date =[]\n",
    "n_proposta = []\n",
    "n_relatorio = []\n",
    "situacao_da_proposta = []\n",
    "proponente = []\n",
    "instancia_de_aprovacao = []\n",
    "unidade_exercicio =[]\n",
    "dirigente = []\n",
    "departamento = []\n",
    "\n",
    "\n",
    "for n_page in range(0, pdf_reader.numPages):\n",
    "\n",
    "    for i in range(0, 10):\n",
    "        text = pdf_reader.getPage(n_page).extractText()\n",
    "        aux = re.findall('../../....', text)[i]\n",
    "        date.append(aux)\n",
    "\n",
    "\n",
    "    for i in range(1, 11):\n",
    "        # numero da proposta\n",
    "        proposta = pdf_reader.getPage(n_page).extractText().split('Pro:')[i].split(\" \")[1]\n",
    "        n_proposta.append(proposta)\n",
    "\n",
    "\n",
    "        # numero da relatorio\n",
    "        relatorio = pdf_reader.getPage(n_page).extractText().split('Rel:')[i].split(' ')[1].replace(')', '')\n",
    "        n_relatorio.append(relatorio)\n",
    "\n",
    "        # situacao_da_proposta\n",
    "        text = pdf_reader.getPage(n_page).extractText().split(' - ')[i]\n",
    "        sdp = re.split('\\d+', text)[0]\n",
    "        situacao_da_proposta.append(sdp)\n",
    "\n",
    "        # proponente\n",
    "        text = pdf_reader.getPage(n_page).extractText().split(' - ')[i]\n",
    "        sdp = re.split('\\d+', text)[0]\n",
    "        proponente.append(sdp)\n",
    "\n",
    "\n",
    "\n",
    "    for i in range(0, 10):\n",
    "        # instancia_de_aprovacao\n",
    "        text = pdf_reader.getPage(n_page).extractText().split('(')[i]\n",
    "        ida = re.split('\\d+', text)[-1]\n",
    "        instancia_de_aprovacao.append(ida)\n",
    "\n",
    "        # unidade_exercicio\n",
    "        text = pdf_reader.getPage(n_page).extractText().split('(')[i]\n",
    "        aux = re.split('\\d+', text)[-1]\n",
    "        unidade_exercicio.append(aux)\n",
    "\n",
    "        #  dirigente\n",
    "#         text = pdf_reader.getPage(n_page).extractText().split(' - ')[i].split('/')[2].split('Pro:')[0]\n",
    "#         prop = re.split('\\d+', text)[1]\n",
    "\n",
    "#         dirigente.append(prop)\n",
    "\n",
    "        # departamento\n",
    "        aux = pdf_reader.getPage(n_page).extractText().split('Rel:')[i]\n",
    "        departamento.append(aux)"
   ]
  },
  {
   "cell_type": "code",
   "execution_count": null,
   "id": "arbitrary-dodge",
   "metadata": {
    "ExecuteTime": {
     "end_time": "2021-07-23T16:18:21.122504Z",
     "start_time": "2021-07-23T14:37:39.795Z"
    }
   },
   "outputs": [],
   "source": [
    "reg = { 'date': date,\n",
    "        'n_proposta':  n_proposta,\n",
    "        'n_relatorio': n_relatorio ,\n",
    "        'situacao_da_proposta': situacao_da_proposta ,\n",
    "        'proponente':  proponente,\n",
    "        'instancia_de_aprovacao': instancia_de_aprovacao ,\n",
    "        'unidade_exercicio': unidade_exercicio ,\n",
    "        'departamento':  departamento}"
   ]
  },
  {
   "cell_type": "code",
   "execution_count": null,
   "id": "patient-reviewer",
   "metadata": {
    "ExecuteTime": {
     "end_time": "2021-07-23T16:18:21.125117Z",
     "start_time": "2021-07-23T14:37:46.048Z"
    }
   },
   "outputs": [],
   "source": [
    "df = pd.DataFrame(reg)"
   ]
  },
  {
   "cell_type": "code",
   "execution_count": null,
   "id": "fiscal-silence",
   "metadata": {
    "ExecuteTime": {
     "end_time": "2021-07-23T16:18:21.127199Z",
     "start_time": "2021-07-23T14:38:01.461Z"
    }
   },
   "outputs": [],
   "source": [
    "print(df.shape)\n",
    "\n",
    "df.head()"
   ]
  },
  {
   "cell_type": "code",
   "execution_count": null,
   "id": "furnished-version",
   "metadata": {
    "ExecuteTime": {
     "end_time": "2021-07-23T16:18:21.137380Z",
     "start_time": "2021-07-23T15:23:34.271Z"
    }
   },
   "outputs": [],
   "source": [
    "pd.to_csv('propostas_tramitadas.csv', index=False)"
   ]
  },
  {
   "cell_type": "code",
   "execution_count": null,
   "id": "boxed-elder",
   "metadata": {},
   "outputs": [],
   "source": []
  },
  {
   "cell_type": "code",
   "execution_count": null,
   "id": "sweet-mortgage",
   "metadata": {},
   "outputs": [],
   "source": []
  },
  {
   "cell_type": "code",
   "execution_count": null,
   "id": "surrounded-specific",
   "metadata": {},
   "outputs": [],
   "source": []
  },
  {
   "cell_type": "code",
   "execution_count": null,
   "id": "renewable-overall",
   "metadata": {},
   "outputs": [],
   "source": []
  },
  {
   "cell_type": "code",
   "execution_count": null,
   "id": "understood-seating",
   "metadata": {},
   "outputs": [],
   "source": []
  },
  {
   "cell_type": "code",
   "execution_count": null,
   "id": "permanent-regression",
   "metadata": {},
   "outputs": [],
   "source": []
  },
  {
   "cell_type": "code",
   "execution_count": null,
   "id": "express-creativity",
   "metadata": {},
   "outputs": [],
   "source": []
  },
  {
   "cell_type": "code",
   "execution_count": null,
   "id": "continuing-penny",
   "metadata": {},
   "outputs": [],
   "source": []
  },
  {
   "cell_type": "code",
   "execution_count": null,
   "id": "helpful-stock",
   "metadata": {},
   "outputs": [],
   "source": []
  },
  {
   "cell_type": "code",
   "execution_count": null,
   "id": "weekly-macedonia",
   "metadata": {},
   "outputs": [],
   "source": []
  },
  {
   "cell_type": "code",
   "execution_count": null,
   "id": "framed-tribune",
   "metadata": {},
   "outputs": [],
   "source": []
  },
  {
   "cell_type": "code",
   "execution_count": null,
   "id": "invalid-connectivity",
   "metadata": {},
   "outputs": [],
   "source": []
  },
  {
   "cell_type": "code",
   "execution_count": null,
   "id": "dried-ratio",
   "metadata": {},
   "outputs": [],
   "source": []
  }
 ],
 "metadata": {
  "kernelspec": {
   "display_name": "Python 3",
   "language": "python",
   "name": "python3"
  },
  "language_info": {
   "codemirror_mode": {
    "name": "ipython",
    "version": 3
   },
   "file_extension": ".py",
   "mimetype": "text/x-python",
   "name": "python",
   "nbconvert_exporter": "python",
   "pygments_lexer": "ipython3",
   "version": "3.8.0"
  }
 },
 "nbformat": 4,
 "nbformat_minor": 5
}
